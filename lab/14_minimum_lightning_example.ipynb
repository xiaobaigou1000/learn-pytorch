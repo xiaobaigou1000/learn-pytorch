{
 "cells": [
  {
   "cell_type": "code",
   "execution_count": 13,
   "id": "b3f81ea2",
   "metadata": {},
   "outputs": [],
   "source": [
    "import torch\n",
    "from torch.utils import data\n",
    "from torch import nn\n",
    "import pytorch_lightning as L"
   ]
  },
  {
   "cell_type": "code",
   "execution_count": 14,
   "id": "022bbd5d",
   "metadata": {},
   "outputs": [
    {
     "data": {
      "text/plain": [
       "(torch.Size([1000, 2]), torch.Size([1000, 1]))"
      ]
     },
     "execution_count": 14,
     "metadata": {},
     "output_type": "execute_result"
    }
   ],
   "source": [
    "real_X = torch.normal(0,1,(1000,2))\n",
    "real_w = torch.tensor([2,-3.4]).reshape(2,1)\n",
    "real_b = 4.8\n",
    "\n",
    "real_y = torch.matmul(real_X,real_w) + real_b\n",
    "real_X.shape, real_y.shape"
   ]
  },
  {
   "cell_type": "code",
   "execution_count": 15,
   "id": "afe67e09",
   "metadata": {},
   "outputs": [],
   "source": [
    "def load_array(data_arrays, batch_size, is_train=True):\n",
    "    dataset = data.TensorDataset(*data_arrays)\n",
    "    return data.DataLoader(dataset,batch_size,shuffle=is_train)"
   ]
  },
  {
   "cell_type": "code",
   "execution_count": 16,
   "id": "b0288ea1",
   "metadata": {},
   "outputs": [],
   "source": [
    "class MyNet(L.LightningModule):\n",
    "    def __init__(self, *args, **kwargs):\n",
    "        super().__init__(*args, **kwargs)\n",
    "        self.net = nn.Sequential(nn.Linear(2,1))\n",
    "        self.loss = nn.MSELoss()\n",
    "\n",
    "    def forward(self, x):\n",
    "        return self.net(x)\n",
    "    \n",
    "    def training_step(self, batch, batch_idx):\n",
    "        loss, output, y = self.__common_step(batch,batch_idx)\n",
    "        self.log(\"train_loss\",loss)\n",
    "        return loss\n",
    "    \n",
    "    def validation_step(self, batch, batch_idx):\n",
    "        loss, output, y = self.__common_step(batch,batch_idx)\n",
    "        self.log(\"validation_loss\",loss)\n",
    "        return loss\n",
    "    \n",
    "    def test_step(self, batch, batch_idx):\n",
    "        loss, output, y = self.__common_step(batch,batch_idx)\n",
    "        self.log(\"test_loss\",loss)\n",
    "        return loss\n",
    "    \n",
    "    def __common_step(self, batch, batch_idx):\n",
    "        X, y = batch\n",
    "        output = self(X)\n",
    "        loss = self.loss(output, y)\n",
    "        return loss, output, y\n",
    "    \n",
    "    def predict_step(self, batch, batch_idx):\n",
    "        X, y = batch\n",
    "        output = self(X)\n",
    "        return output\n",
    "\n",
    "    def configure_optimizers(self):\n",
    "        return torch.optim.SGD(self.parameters(),lr=0.03)\n"
   ]
  },
  {
   "cell_type": "code",
   "execution_count": 17,
   "id": "6c6e7cff",
   "metadata": {},
   "outputs": [
    {
     "name": "stderr",
     "output_type": "stream",
     "text": [
      "Using default `ModelCheckpoint`. Consider installing `litmodels` package to enable `LitModelCheckpoint` for automatic upload to the Lightning model registry.\n",
      "GPU available: True (cuda), used: False\n",
      "TPU available: False, using: 0 TPU cores\n",
      "HPU available: False, using: 0 HPUs\n",
      "f:\\code\\deep-learning\\.venv\\Lib\\site-packages\\pytorch_lightning\\trainer\\setup.py:177: GPU available but not used. You can set it by doing `Trainer(accelerator='gpu')`.\n",
      "f:\\code\\deep-learning\\.venv\\Lib\\site-packages\\pytorch_lightning\\trainer\\configuration_validator.py:70: You defined a `validation_step` but have no `val_dataloader`. Skipping val loop.\n",
      "\n",
      "  | Name | Type       | Params | Mode \n",
      "--------------------------------------------\n",
      "0 | net  | Sequential | 3      | train\n",
      "1 | loss | MSELoss    | 0      | train\n",
      "--------------------------------------------\n",
      "3         Trainable params\n",
      "0         Non-trainable params\n",
      "3         Total params\n",
      "0.000     Total estimated model params size (MB)\n",
      "3         Modules in train mode\n",
      "0         Modules in eval mode\n",
      "f:\\code\\deep-learning\\.venv\\Lib\\site-packages\\pytorch_lightning\\trainer\\connectors\\data_connector.py:425: The 'train_dataloader' does not have many workers which may be a bottleneck. Consider increasing the value of the `num_workers` argument` to `num_workers=27` in the `DataLoader` to improve performance.\n"
     ]
    },
    {
     "data": {
      "application/vnd.jupyter.widget-view+json": {
       "model_id": "ccef20428e2148d8ae374d3df08c9526",
       "version_major": 2,
       "version_minor": 0
      },
      "text/plain": [
       "Training: |          | 0/? [00:00<?, ?it/s]"
      ]
     },
     "metadata": {},
     "output_type": "display_data"
    },
    {
     "name": "stderr",
     "output_type": "stream",
     "text": [
      "`Trainer.fit` stopped: `max_epochs=10` reached.\n"
     ]
    }
   ],
   "source": [
    "model = MyNet()\n",
    "\n",
    "trainer = L.Trainer(accelerator='cpu',min_epochs=3,max_epochs=10)\n",
    "trainer.fit(model,load_array([real_X,real_y],10,True))"
   ]
  },
  {
   "cell_type": "code",
   "execution_count": 18,
   "id": "a0418d9e",
   "metadata": {},
   "outputs": [],
   "source": [
    "net = nn.Sequential(nn.Linear(2,1))\n",
    "loss = nn.MSELoss()\n",
    "trainer = torch.optim.SGD(net.parameters(),lr=0.03)"
   ]
  },
  {
   "cell_type": "code",
   "execution_count": 19,
   "id": "a0ecf3e1",
   "metadata": {},
   "outputs": [],
   "source": [
    "X, y = next(iter(load_array([real_X,real_y],10,False)))"
   ]
  },
  {
   "cell_type": "code",
   "execution_count": 20,
   "id": "b34e56b8",
   "metadata": {},
   "outputs": [
    {
     "data": {
      "text/plain": [
       "(tensor([[ 0.5380],\n",
       "         [ 6.2603],\n",
       "         [ 7.6602],\n",
       "         [ 4.1343],\n",
       "         [ 8.9238],\n",
       "         [-0.6299],\n",
       "         [ 8.0655],\n",
       "         [ 6.6094],\n",
       "         [11.1337],\n",
       "         [ 4.5751]], grad_fn=<AddmmBackward0>),\n",
       " tensor([[ 0.5380],\n",
       "         [ 6.2604],\n",
       "         [ 7.6602],\n",
       "         [ 4.1343],\n",
       "         [ 8.9238],\n",
       "         [-0.6299],\n",
       "         [ 8.0655],\n",
       "         [ 6.6094],\n",
       "         [11.1337],\n",
       "         [ 4.5751]]))"
      ]
     },
     "execution_count": 20,
     "metadata": {},
     "output_type": "execute_result"
    }
   ],
   "source": [
    "model(X), y"
   ]
  }
 ],
 "metadata": {
  "kernelspec": {
   "display_name": ".venv",
   "language": "python",
   "name": "python3"
  },
  "language_info": {
   "codemirror_mode": {
    "name": "ipython",
    "version": 3
   },
   "file_extension": ".py",
   "mimetype": "text/x-python",
   "name": "python",
   "nbconvert_exporter": "python",
   "pygments_lexer": "ipython3",
   "version": "3.13.2"
  }
 },
 "nbformat": 4,
 "nbformat_minor": 5
}
