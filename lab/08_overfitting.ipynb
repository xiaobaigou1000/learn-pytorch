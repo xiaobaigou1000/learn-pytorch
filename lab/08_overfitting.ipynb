{
 "cells": [
  {
   "cell_type": "code",
   "execution_count": 1,
   "id": "2c3c7ff1",
   "metadata": {},
   "outputs": [],
   "source": [
    "import torch\n",
    "from torch import nn\n",
    "import torchvision\n",
    "from torch.utils import data\n",
    "from torchvision import transforms\n",
    "import matplotlib.pyplot as plt\n",
    "import random\n",
    "import ipywidgets\n",
    "import numpy as np\n",
    "import math"
   ]
  },
  {
   "cell_type": "code",
   "execution_count": 2,
   "id": "37df5801",
   "metadata": {},
   "outputs": [],
   "source": [
    "class Accumulator:  #@save\n",
    "    \"\"\"在n个变量上累加\"\"\"\n",
    "    def __init__(self, n):\n",
    "        self.data = [0.0] * n\n",
    "\n",
    "    def add(self, *args):\n",
    "        self.data = [a + float(b) for a, b in zip(self.data, args)]\n",
    "\n",
    "    def reset(self):\n",
    "        self.data = [0.0] * len(self.data)\n",
    "\n",
    "    def __getitem__(self, idx):\n",
    "        return self.data[idx]"
   ]
  },
  {
   "cell_type": "code",
   "execution_count": 36,
   "id": "c847fce3",
   "metadata": {},
   "outputs": [],
   "source": [
    "max_degree = 20 # 多项式的最大阶数\n",
    "n_train, n_test = 100, 100 # 训练和测试数据集大小\n",
    "true_w = np.zeros(max_degree,dtype=np.float32) # 分配大量的空间\n",
    "true_w[0:4] = np.array([5, 1.2,-3.4, 5.6],dtype=np.float32)\n",
    "features = np.random.normal(size=(n_train + n_test, 1)).astype(np.float32)\n",
    "np.random.shuffle(features)\n",
    "poly_features = np.power(features, np.arange(max_degree,dtype=np.float32).reshape(1,-1))\n",
    "\n",
    "for i in range(max_degree):\n",
    "    poly_features[:, i] /= math.gamma(i + 1) # gamma(n)=(n-1)!\n",
    "# labels的维度:(n_train+n_test,)\n",
    "labels = np.dot(poly_features, true_w)\n",
    "labels += np.random.normal(scale=0.4, size=labels.shape)"
   ]
  },
  {
   "cell_type": "code",
   "execution_count": 4,
   "id": "e87f99a0",
   "metadata": {},
   "outputs": [
    {
     "data": {
      "text/plain": [
       "dtype('float32')"
      ]
     },
     "execution_count": 4,
     "metadata": {},
     "output_type": "execute_result"
    }
   ],
   "source": [
    "labels.reshape(-1,1).dtype"
   ]
  },
  {
   "cell_type": "code",
   "execution_count": 5,
   "id": "fa813402",
   "metadata": {},
   "outputs": [],
   "source": [
    "def evaluate_loss(net,data_iter,loss):\n",
    "    metric = Accumulator(2)\n",
    "    for X,y in data_iter:\n",
    "        out = net(X)\n",
    "        y = y.reshape(out.shape)\n",
    "        l = loss(out, y)\n",
    "        metric.add(l.sum(),l.numel())\n",
    "    return metric[0]/metric[1]"
   ]
  },
  {
   "cell_type": "code",
   "execution_count": 6,
   "id": "37baf9ae",
   "metadata": {},
   "outputs": [],
   "source": [
    "def train(train_features, test_features, train_labels, test_labels, num_epoches=600):\n",
    "\n",
    "    loss = nn.MSELoss()\n",
    "    input_shape = train_features.shape[-1]\n",
    "    net = nn.Sequential(nn.Linear(input_shape, 1,bias=False))\n",
    "    for i in net:\n",
    "        if type(i) == nn.Linear:\n",
    "            nn.init.uniform_(i.weight,-0.05,0.05)\n",
    "    batch_size = min(10,train_labels.shape[0])\n",
    "    train_iter = data.DataLoader(list(zip(train_features,train_labels.reshape(-1,1))),batch_size,shuffle=True)\n",
    "    test_iter = data.DataLoader(list(zip(test_features,test_labels.reshape(-1,1))),batch_size,shuffle=True)\n",
    "\n",
    "    trainer = torch.optim.SGD(net.parameters(),lr=0.01)\n",
    "\n",
    "    progress_bar = ipywidgets.IntProgress(value=0,min=0,max=(num_epoches-1))\n",
    "    display(progress_bar)\n",
    "\n",
    "    train_metrics = []\n",
    "\n",
    "    for epoch in range(num_epoches):\n",
    "        for X,y in train_iter:\n",
    "            out = net(X)\n",
    "            net.zero_grad()\n",
    "            l = loss(out, y)\n",
    "            l.backward()\n",
    "            trainer.step()\n",
    "        train_loss = evaluate_loss(net,train_iter,loss)\n",
    "        test_loss = evaluate_loss(net,test_iter,loss)\n",
    "        train_metrics.append((train_loss,test_loss))\n",
    "        progress_bar.value = epoch\n",
    "    print(net[0].weight.data.numpy())\n",
    "    print(true_w)\n",
    "    return train_metrics\n"
   ]
  },
  {
   "cell_type": "code",
   "execution_count": 37,
   "id": "3b2102e2",
   "metadata": {},
   "outputs": [
    {
     "data": {
      "application/vnd.jupyter.widget-view+json": {
       "model_id": "c49cb50156134cd697dececad57b91b4",
       "version_major": 2,
       "version_minor": 0
      },
      "text/plain": [
       "IntProgress(value=0, max=599)"
      ]
     },
     "metadata": {},
     "output_type": "display_data"
    },
    {
     "name": "stdout",
     "output_type": "stream",
     "text": [
      "[[ 5.002049   1.3044599 -3.42369    5.3745255]]\n",
      "[ 5.   1.2 -3.4  5.6  0.   0.   0.   0.   0.   0.   0.   0.   0.   0.\n",
      "  0.   0.   0.   0.   0.   0. ]\n"
     ]
    }
   ],
   "source": [
    "train_metrics = train(poly_features[:n_train,:4],poly_features[n_train:,:4],labels[:n_train],labels[n_train:])"
   ]
  },
  {
   "cell_type": "code",
   "execution_count": 38,
   "id": "16a9dfbc",
   "metadata": {},
   "outputs": [
    {
     "data": {
      "text/plain": [
       "(100.0, 600.0)"
      ]
     },
     "execution_count": 38,
     "metadata": {},
     "output_type": "execute_result"
    },
    {
     "data": {
      "image/png": "[encoded data removed]",
      "text/plain": [
       "<Figure size 640x480 with 1 Axes>"
      ]
     },
     "metadata": {},
     "output_type": "display_data"
    }
   ],
   "source": [
    "fig,ax=plt.subplots()\n",
    "ax.plot(range(len(train_metrics)),[i[0] for i in train_metrics],'o')\n",
    "ax.plot(range(len(train_metrics)),[i[1] for i in train_metrics])\n",
    "ax.set_ylim(0,0.3)\n",
    "ax.set_xlim(100,600)"
   ]
  },
  {
   "cell_type": "code",
   "execution_count": 39,
   "id": "8ffa0d91",
   "metadata": {},
   "outputs": [
    {
     "data": {
      "application/vnd.jupyter.widget-view+json": {
       "model_id": "1913051e9f6f4e8895d4e07b77a15286",
       "version_major": 2,
       "version_minor": 0
      },
      "text/plain": [
       "IntProgress(value=0, max=599)"
      ]
     },
     "metadata": {},
     "output_type": "display_data"
    },
    {
     "name": "stdout",
     "output_type": "stream",
     "text": [
      "[[ 5.0019145e+00  1.4522514e+00 -3.3869770e+00  4.6610904e+00\n",
      "  -1.2076455e-01  1.7221483e+00  1.3653140e-01  3.0010760e-01\n",
      "   3.8755689e-02  6.7558937e-02  2.6731862e-02  4.9397264e-02\n",
      "   4.1051827e-02 -8.7011391e-03 -3.9171398e-02  4.6435811e-02\n",
      "   2.4367437e-02  7.6162303e-03 -4.7895283e-02 -1.1543032e-03]]\n",
      "[ 5.   1.2 -3.4  5.6  0.   0.   0.   0.   0.   0.   0.   0.   0.   0.\n",
      "  0.   0.   0.   0.   0.   0. ]\n"
     ]
    }
   ],
   "source": [
    "overfitting = train(poly_features[:n_train,:],poly_features[n_train:,:],labels[:n_train],labels[n_train:])"
   ]
  },
  {
   "cell_type": "code",
   "execution_count": 40,
   "id": "961734fe",
   "metadata": {},
   "outputs": [
    {
     "data": {
      "text/plain": [
       "(50.0, 600.0)"
      ]
     },
     "execution_count": 40,
     "metadata": {},
     "output_type": "execute_result"
    },
    {
     "data": {
      "image/png": "[encoded data removed]",
      "text/plain": [
       "<Figure size 640x480 with 1 Axes>"
      ]
     },
     "metadata": {},
     "output_type": "display_data"
    }
   ],
   "source": [
    "fig,ax=plt.subplots()\n",
    "ax.plot(range(len(overfitting)),[i[0] for i in overfitting],'o')\n",
    "ax.plot(range(len(overfitting)),[i[1] for i in overfitting])\n",
    "ax.set_ylim(0,0.3)\n",
    "ax.set_xlim(50,600)"
   ]
  },
  {
   "cell_type": "code",
   "execution_count": null,
   "id": "0fa6364c",
   "metadata": {},
   "outputs": [],
   "source": []
  }
 ],
 "metadata": {
  "kernelspec": {
   "display_name": ".venv",
   "language": "python",
   "name": "python3"
  },
  "language_info": {
   "codemirror_mode": {
    "name": "ipython",
    "version": 3
   },
   "file_extension": ".py",
   "mimetype": "text/x-python",
   "name": "python",
   "nbconvert_exporter": "python",
   "pygments_lexer": "ipython3",
   "version": "3.13.2"
  }
 },
 "nbformat": 4,
 "nbformat_minor": 5
}
