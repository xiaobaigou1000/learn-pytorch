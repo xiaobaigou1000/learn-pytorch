{
 "cells": [
  {
   "cell_type": "code",
   "execution_count": 18,
   "id": "28afdb2c",
   "metadata": {},
   "outputs": [],
   "source": [
    "import torch\n",
    "from torch import nn\n",
    "import torchvision\n",
    "from torch.utils import data\n",
    "from torchvision import transforms\n",
    "import matplotlib.pyplot as plt\n",
    "import random\n",
    "import ipywidgets"
   ]
  },
  {
   "cell_type": "code",
   "execution_count": 19,
   "id": "c234c0ee",
   "metadata": {},
   "outputs": [],
   "source": [
    "class Accumulator:  #@save\n",
    "    \"\"\"在n个变量上累加\"\"\"\n",
    "    def __init__(self, n):\n",
    "        self.data = [0.0] * n\n",
    "\n",
    "    def add(self, *args):\n",
    "        self.data = [a + float(b) for a, b in zip(self.data, args)]\n",
    "\n",
    "    def reset(self):\n",
    "        self.data = [0.0] * len(self.data)\n",
    "\n",
    "    def __getitem__(self, idx):\n",
    "        return self.data[idx]"
   ]
  },
  {
   "cell_type": "code",
   "execution_count": 20,
   "id": "f8d87c3a",
   "metadata": {},
   "outputs": [],
   "source": [
    "def accuracy(y_hat, y):\n",
    "    \n",
    "    if len(y_hat) > 1 and y_hat.shape[1] > 1:\n",
    "        y_hat = y_hat.argmax(1)\n",
    "    cmp = y_hat.type(y.dtype) == y\n",
    "    return float(cmp.type(y.dtype).sum())"
   ]
  },
  {
   "cell_type": "code",
   "execution_count": 21,
   "id": "fd0acd7a",
   "metadata": {},
   "outputs": [],
   "source": [
    "def evaluate_accuracy(net,data_iter):\n",
    "    with torch.no_grad():\n",
    "        metric = Accumulator(2)\n",
    "        for X,y in data_iter:\n",
    "            metric.add(accuracy(net(X),y),y.numel())\n",
    "        return metric[0] / metric[1]"
   ]
  },
  {
   "cell_type": "code",
   "execution_count": 22,
   "id": "cd4a29e3",
   "metadata": {},
   "outputs": [
    {
     "data": {
      "text/plain": [
       "_CudaDeviceProperties(name='NVIDIA GeForce RTX 4070 Ti SUPER', major=8, minor=9, total_memory=16375MB, multi_processor_count=66, uuid=d51c197f-35e3-4bf7-4a2c-d9ca3afb07cb, L2_cache_size=48MB)"
      ]
     },
     "execution_count": 22,
     "metadata": {},
     "output_type": "execute_result"
    }
   ],
   "source": [
    "torch.cuda.get_device_properties(0)"
   ]
  },
  {
   "cell_type": "code",
   "execution_count": 23,
   "id": "127b5f3a",
   "metadata": {},
   "outputs": [],
   "source": [
    "trans = transforms.ToTensor()\n",
    "mnist_train = torchvision.datasets.FashionMNIST(root=\"./data\",train=True,transform=trans,download=True)\n",
    "mnist_test = torchvision.datasets.FashionMNIST(root=\"./data\",train=False,transform=trans,download=True)"
   ]
  },
  {
   "cell_type": "code",
   "execution_count": 24,
   "id": "9729ebb3",
   "metadata": {},
   "outputs": [],
   "source": [
    "batch_size = 256\n",
    "\n",
    "train_iter = data.DataLoader(mnist_train,batch_size,shuffle=True,num_workers=4)\n",
    "test_iter = data.DataLoader(mnist_test,batch_size,shuffle=True,num_workers=4)"
   ]
  },
  {
   "cell_type": "code",
   "execution_count": 25,
   "id": "6bc735f3",
   "metadata": {},
   "outputs": [],
   "source": [
    "num_inputs = 784\n",
    "num_outputs = 10\n",
    "num_hiddens = 256\n",
    "\n",
    "W1 = nn.Parameter(torch.randn(num_inputs,num_hiddens,requires_grad=True))\n",
    "b1 = nn.Parameter(torch.zeros(num_hiddens,requires_grad=True))\n",
    "W2 = nn.Parameter(torch.randn(num_hiddens,num_outputs,requires_grad=True))\n",
    "b2 = nn.Parameter(torch.zeros(num_outputs,requires_grad=True))\n",
    "\n",
    "params = [W1,b1,W2,b2]"
   ]
  },
  {
   "cell_type": "code",
   "execution_count": 26,
   "id": "815436cb",
   "metadata": {},
   "outputs": [],
   "source": [
    "def relu(X):\n",
    "    a = torch.zeros_like(X)\n",
    "    return torch.max(X,a)"
   ]
  },
  {
   "cell_type": "code",
   "execution_count": 27,
   "id": "2dbeb40c",
   "metadata": {},
   "outputs": [],
   "source": [
    "def net(X):\n",
    "    X=X.reshape((-1,num_inputs))\n",
    "    H=relu(X @ W1 + b1)\n",
    "    return (H @ W2 + b2)\n",
    "\n",
    "loss = nn.CrossEntropyLoss()\n",
    "trainer = torch.optim.SGD(params,lr = 0.1)"
   ]
  },
  {
   "cell_type": "code",
   "execution_count": 28,
   "id": "e5b82ed3",
   "metadata": {},
   "outputs": [],
   "source": [
    "train_metrics = []\n",
    "\n",
    "def train(net, train_iter, loss, num_epoches, updater):\n",
    "    progress_bar = ipywidgets.IntProgress(value=0,min=0,max=(num_epoches-1))\n",
    "    display(progress_bar)\n",
    "    for epoch in range(num_epoches):\n",
    "        metric = Accumulator(3)\n",
    "        for X,y in train_iter:\n",
    "            y_hat = net(X)\n",
    "            # 因为loss function nn.CrossEntropyLoss的特性，这里输入的y表示的是预测的index，loss function会自动完成LogSoftmax操作。\n",
    "            # 自动LogSoftmax仅在输入的y为Long型tensor时成立，如果输入的是和y_hat形状一致的概率形式，需要对输入手动进行softmax。\n",
    "            l = loss(y_hat,y)\n",
    "            updater.zero_grad()\n",
    "            l.backward()\n",
    "            updater.step()\n",
    "            metric.add(float(l)*len(y),accuracy(y_hat,y),y.size().numel())\n",
    "        test_accuracy = evaluate_accuracy(net,test_iter)\n",
    "        train_metrics.append((epoch,metric[0]/metric[2],metric[1]/metric[2],test_accuracy))\n",
    "        progress_bar.value = epoch\n",
    "\n",
    "    for item in train_metrics[-3:-1]:\n",
    "        print(f\"Epoch: {item[0]}, train_loss: {item[1]}, train_accuracy: {item[2]}, test_accuracy: {item[3]}\")\n"
   ]
  },
  {
   "cell_type": "code",
   "execution_count": 29,
   "id": "01e29f1f",
   "metadata": {},
   "outputs": [
    {
     "data": {
      "application/vnd.jupyter.widget-view+json": {
       "model_id": "aabd109b8f874c25b561424485f1bd13",
       "version_major": 2,
       "version_minor": 0
      },
      "text/plain": [
       "IntProgress(value=0, max=29)"
      ]
     },
     "metadata": {},
     "output_type": "display_data"
    },
    {
     "name": "stdout",
     "output_type": "stream",
     "text": [
      "Epoch: 27, train_loss: 0.507443230009079, train_accuracy: 0.831, test_accuracy: 0.7953\n",
      "Epoch: 28, train_loss: 0.5024435222148895, train_accuracy: 0.83325, test_accuracy: 0.8002\n"
     ]
    }
   ],
   "source": [
    "train(net,train_iter,loss,30,trainer)"
   ]
  },
  {
   "cell_type": "code",
   "execution_count": 30,
   "id": "c826c519",
   "metadata": {},
   "outputs": [
    {
     "data": {
      "text/plain": [
       "(0.0, 2.0)"
      ]
     },
     "execution_count": 30,
     "metadata": {},
     "output_type": "execute_result"
    },
    {
     "data": {
      "image/png": "[encoded data removed]",
      "text/plain": [
       "<Figure size 640x480 with 1 Axes>"
      ]
     },
     "metadata": {},
     "output_type": "display_data"
    }
   ],
   "source": [
    "fig, ax = plt.subplots()\n",
    "ax.plot(range(len(train_metrics)),[i[1] for i in train_metrics])\n",
    "ax.plot(range(len(train_metrics)),[i[2] for i in train_metrics])\n",
    "ax.plot(range(len(train_metrics)),[i[3] for i in train_metrics])\n",
    "ax.set_xlim(0,len(train_metrics))\n",
    "ax.set_ylim(0,2.0)\n"
   ]
  },
  {
   "cell_type": "code",
   "execution_count": 31,
   "id": "b09e37e7",
   "metadata": {},
   "outputs": [
    {
     "data": {
      "text/plain": [
       "Text(0.5, 1.0, 'Real Group: 2, Calculated Group: 6')"
      ]
     },
     "execution_count": 31,
     "metadata": {},
     "output_type": "execute_result"
    },
    {
     "data": {
      "image/png": "[encoded data removed]",
      "text/plain": [
       "<Figure size 640x480 with 1 Axes>"
      ]
     },
     "metadata": {},
     "output_type": "display_data"
    }
   ],
   "source": [
    "test_item = random.choice(mnist_test)\n",
    "result = net(test_item[0])\n",
    "fig, ax = plt.subplots()\n",
    "ax.imshow(test_item[0].reshape((28,28)))\n",
    "ax.set_title(f\"Real Group: {test_item[1]}, Calculated Group: {result.argmax()}\")"
   ]
  },
  {
   "cell_type": "code",
   "execution_count": null,
   "id": "8a784980",
   "metadata": {},
   "outputs": [],
   "source": []
  }
 ],
 "metadata": {
  "kernelspec": {
   "display_name": ".venv",
   "language": "python",
   "name": "python3"
  },
  "language_info": {
   "codemirror_mode": {
    "name": "ipython",
    "version": 3
   },
   "file_extension": ".py",
   "mimetype": "text/x-python",
   "name": "python",
   "nbconvert_exporter": "python",
   "pygments_lexer": "ipython3",
   "version": "3.13.2"
  }
 },
 "nbformat": 4,
 "nbformat_minor": 5
}
