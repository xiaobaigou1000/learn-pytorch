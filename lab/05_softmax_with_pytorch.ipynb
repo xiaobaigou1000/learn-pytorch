{
 "cells": [
  {
   "cell_type": "code",
   "execution_count": 1,
   "id": "e5d1f303",
   "metadata": {},
   "outputs": [],
   "source": [
    "import torch\n",
    "import torchvision\n",
    "from torch.utils import data\n",
    "from torchvision import transforms\n",
    "from torch import nn\n",
    "import matplotlib.pyplot as plt\n",
    "import random\n",
    "import ipywidgets"
   ]
  },
  {
   "cell_type": "code",
   "execution_count": 2,
   "id": "ce38fd6e",
   "metadata": {},
   "outputs": [],
   "source": [
    "class Accumulator:  #@save\n",
    "    \"\"\"在n个变量上累加\"\"\"\n",
    "    def __init__(self, n):\n",
    "        self.data = [0.0] * n\n",
    "\n",
    "    def add(self, *args):\n",
    "        self.data = [a + float(b) for a, b in zip(self.data, args)]\n",
    "\n",
    "    def reset(self):\n",
    "        self.data = [0.0] * len(self.data)\n",
    "\n",
    "    def __getitem__(self, idx):\n",
    "        return self.data[idx]"
   ]
  },
  {
   "cell_type": "code",
   "execution_count": 3,
   "id": "81536b3d",
   "metadata": {},
   "outputs": [],
   "source": [
    "batch_size = 256\n",
    "\n",
    "trans = transforms.ToTensor()\n",
    "mnist_train = torchvision.datasets.FashionMNIST(root=\"./data\",train=True,transform=trans,download=True)\n",
    "mnist_test = torchvision.datasets.FashionMNIST(root=\"./data\",train=False,transform=trans,download=True)\n",
    "\n",
    "train_iter = data.DataLoader(mnist_train,batch_size,shuffle=True,num_workers=4)\n",
    "test_iter = data.DataLoader(mnist_test,batch_size,shuffle=True,num_workers=4)"
   ]
  },
  {
   "cell_type": "code",
   "execution_count": null,
   "id": "c6345347",
   "metadata": {},
   "outputs": [
    {
     "data": {
      "text/plain": [
       "Sequential(\n",
       "  (0): Flatten(start_dim=1, end_dim=-1)\n",
       "  (1): Linear(in_features=784, out_features=10, bias=True)\n",
       ")"
      ]
     },
     "execution_count": 4,
     "metadata": {},
     "output_type": "execute_result"
    }
   ],
   "source": [
    "# Todo: 这个网络看起来和Softmax操作并不完全等价，根据文档，传统的softmax操作在nn.CrossEntropyLoss中已经被实现了\n",
    "net = nn.Sequential(nn.Flatten(),nn.Linear(784,10))\n",
    "\n",
    "def init_weights(m):\n",
    "    if type(m) == nn.Linear:\n",
    "        nn.init.normal_(m.weight, std=0.01)\n",
    "\n",
    "net.apply(init_weights)"
   ]
  },
  {
   "cell_type": "code",
   "execution_count": 5,
   "id": "79c7969e",
   "metadata": {},
   "outputs": [],
   "source": [
    "loss = nn.CrossEntropyLoss()\n",
    "trainer = torch.optim.SGD(net.parameters(),lr=0.1)"
   ]
  },
  {
   "cell_type": "code",
   "execution_count": 6,
   "id": "6c27aeb2",
   "metadata": {},
   "outputs": [],
   "source": [
    "def accuracy(y_hat, y):\n",
    "    if len(y_hat) > 1 and y_hat.shape[1] > 1:\n",
    "        y_hat = y_hat.argmax(1)\n",
    "    cmp = y_hat.type(y.dtype) == y\n",
    "    return float(cmp.type(y.dtype).sum())"
   ]
  },
  {
   "cell_type": "code",
   "execution_count": 7,
   "id": "da6be6df",
   "metadata": {},
   "outputs": [],
   "source": [
    "def evaluate_accuracy(net,data_iter):\n",
    "    net.eval()\n",
    "    metric = Accumulator(2)\n",
    "    for X,y in data_iter:\n",
    "        metric.add(accuracy(net(X),y),y.numel())\n",
    "    return metric[0] / metric[1]"
   ]
  },
  {
   "cell_type": "code",
   "execution_count": null,
   "id": "50ed717a",
   "metadata": {},
   "outputs": [],
   "source": [
    "train_metrics = []\n",
    "\n",
    "def train(net, train_iter, loss, num_epoches, updater):\n",
    "    progress_bar = ipywidgets.IntProgress(value=0,min=0,max=(num_epoches-1))\n",
    "    display(progress_bar)\n",
    "    for epoch in range(num_epoches):\n",
    "        net.train()\n",
    "        metric = Accumulator(3)\n",
    "        for X,y in train_iter:\n",
    "            y_hat = net(X)\n",
    "            # 因为loss function nn.CrossEntropyLoss的特性，这里输入的y表示的是预测的index，loss function会自动完成LogSoftmax操作。\n",
    "            # 自动LogSoftmax仅在输入的y为Long型tensor时成立，如果输入的是和y_hat形状一致的概率形式，需要对输入手动进行softmax。\n",
    "            l = loss(y_hat,y)\n",
    "            updater.zero_grad()\n",
    "            l.backward()\n",
    "            updater.step()\n",
    "            metric.add(float(l)*len(y),accuracy(y_hat,y),y.size().numel())\n",
    "        test_accuracy = evaluate_accuracy(net,test_iter)\n",
    "        train_metrics.append((epoch,metric[0]/metric[2],metric[1]/metric[2],test_accuracy))\n",
    "        progress_bar.value = epoch\n",
    "\n",
    "    for item in train_metrics[-3:-1]:\n",
    "        print(f\"Epoch: {item[0]}, train_loss: {item[1]}, train_accuracy: {item[2]}, test_accuracy: {item[3]}\")\n"
   ]
  },
  {
   "cell_type": "code",
   "execution_count": 9,
   "id": "a8d1ee97",
   "metadata": {},
   "outputs": [
    {
     "data": {
      "application/vnd.jupyter.widget-view+json": {
       "model_id": "588ce363b45c42df98c5ce712e456181",
       "version_major": 2,
       "version_minor": 0
      },
      "text/plain": [
       "IntProgress(value=0, max=19)"
      ]
     },
     "metadata": {},
     "output_type": "display_data"
    },
    {
     "name": "stdout",
     "output_type": "stream",
     "text": [
      "Epoch: 17, train_loss: 0.42324325931866963, train_accuracy: 0.8560166666666666, test_accuracy: 0.834\n",
      "Epoch: 18, train_loss: 0.42217806595166524, train_accuracy: 0.8554833333333334, test_accuracy: 0.8379\n"
     ]
    }
   ],
   "source": [
    "train(net,train_iter,loss,20,trainer)"
   ]
  },
  {
   "cell_type": "code",
   "execution_count": 10,
   "id": "0d27ff44",
   "metadata": {},
   "outputs": [
    {
     "data": {
      "text/plain": [
       "Text(0.5, 1.0, 'Real Group: 8, Calculated Group: 8')"
      ]
     },
     "execution_count": 10,
     "metadata": {},
     "output_type": "execute_result"
    },
    {
     "data": {
      "image/png": "[encoded data removed]",
      "text/plain": [
       "<Figure size 640x480 with 1 Axes>"
      ]
     },
     "metadata": {},
     "output_type": "display_data"
    }
   ],
   "source": [
    "test_item = random.choice(mnist_test)\n",
    "result = net(test_item[0])\n",
    "fig, ax = plt.subplots()\n",
    "ax.imshow(test_item[0].reshape((28,28)))\n",
    "ax.set_title(f\"Real Group: {test_item[1]}, Calculated Group: {result.argmax()}\")"
   ]
  }
 ],
 "metadata": {
  "kernelspec": {
   "display_name": ".venv",
   "language": "python",
   "name": "python3"
  },
  "language_info": {
   "codemirror_mode": {
    "name": "ipython",
    "version": 3
   },
   "file_extension": ".py",
   "mimetype": "text/x-python",
   "name": "python",
   "nbconvert_exporter": "python",
   "pygments_lexer": "ipython3",
   "version": "3.13.2"
  }
 },
 "nbformat": 4,
 "nbformat_minor": 5
}
