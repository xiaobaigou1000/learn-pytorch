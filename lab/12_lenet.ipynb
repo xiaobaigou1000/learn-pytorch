{
 "cells": [
  {
   "cell_type": "code",
   "execution_count": 327,
   "id": "81122f86",
   "metadata": {},
   "outputs": [],
   "source": [
    "import torch\n",
    "from torch import nn\n",
    "import torchvision\n",
    "from torchvision import transforms\n",
    "from torch.utils import data\n",
    "import ipywidgets\n",
    "import matplotlib.pyplot as plt\n",
    "import random\n",
    "\n",
    "device = torch.device('cpu')"
   ]
  },
  {
   "cell_type": "code",
   "execution_count": 314,
   "id": "10f0ee00",
   "metadata": {},
   "outputs": [],
   "source": [
    "class Accumulator:  #@save\n",
    "    \"\"\"在n个变量上累加\"\"\"\n",
    "    def __init__(self, n):\n",
    "        self.data = [0.0] * n\n",
    "\n",
    "    def add(self, *args):\n",
    "        self.data = [a + float(b) for a, b in zip(self.data, args)]\n",
    "\n",
    "    def reset(self):\n",
    "        self.data = [0.0] * len(self.data)\n",
    "\n",
    "    def __getitem__(self, idx):\n",
    "        return self.data[idx]"
   ]
  },
  {
   "cell_type": "code",
   "execution_count": 315,
   "id": "1079b8bc",
   "metadata": {},
   "outputs": [
    {
     "data": {
      "text/plain": [
       "'NVIDIA GeForce RTX 4070 Ti SUPER'"
      ]
     },
     "execution_count": 315,
     "metadata": {},
     "output_type": "execute_result"
    }
   ],
   "source": [
    "torch.cuda.get_device_name()"
   ]
  },
  {
   "cell_type": "code",
   "execution_count": 316,
   "id": "1a017e2c",
   "metadata": {},
   "outputs": [],
   "source": [
    "def accuracy(y_hat, y):\n",
    "    \n",
    "    if len(y_hat) > 1 and y_hat.shape[1] > 1:\n",
    "        y_hat = y_hat.argmax(1)\n",
    "    cmp = y_hat.type(y.dtype) == y\n",
    "    return float(cmp.type(y.dtype).sum())"
   ]
  },
  {
   "cell_type": "code",
   "execution_count": 317,
   "id": "f3097099",
   "metadata": {},
   "outputs": [],
   "source": [
    "trans = transforms.ToTensor()"
   ]
  },
  {
   "cell_type": "code",
   "execution_count": 318,
   "id": "4a3fde48",
   "metadata": {},
   "outputs": [],
   "source": [
    "mnist_train = torchvision.datasets.FashionMNIST(\n",
    "root=\"./data\", train=True, transform=trans, download=True)\n",
    "mnist_test = torchvision.datasets.FashionMNIST(\n",
    "root=\"./data\", train=False, transform=trans, download=True)"
   ]
  },
  {
   "cell_type": "code",
   "execution_count": 319,
   "id": "c81ee5b7",
   "metadata": {},
   "outputs": [],
   "source": [
    "def evaluate_accuracy_gpu(net, data_iter, device=None):\n",
    "    net.eval()\n",
    "    if not device:\n",
    "        device = next(iter(net.parameters())).device\n",
    "    metrics = Accumulator(2)\n",
    "    for X,y in data_iter:\n",
    "        if isinstance(X, list):\n",
    "            X = [i.to(device) for i in metrics]\n",
    "        else:\n",
    "            X = X.to(device)\n",
    "        y = y.to(device)\n",
    "        metrics.add(accuracy(net(X),y),y.numel())\n",
    "        return metrics[0] / metrics[1]"
   ]
  },
  {
   "cell_type": "code",
   "execution_count": 320,
   "id": "3ed1c7d7",
   "metadata": {},
   "outputs": [
    {
     "data": {
      "text/plain": [
       "torch.Size([1, 28, 28])"
      ]
     },
     "execution_count": 320,
     "metadata": {},
     "output_type": "execute_result"
    }
   ],
   "source": [
    "mnist_train[0][0].shape"
   ]
  },
  {
   "cell_type": "code",
   "execution_count": 321,
   "id": "fcef7b2a",
   "metadata": {},
   "outputs": [],
   "source": [
    "train_iter = data.DataLoader(mnist_train,256,True)\n",
    "test_iter = data.DataLoader(mnist_test,256,True)"
   ]
  },
  {
   "cell_type": "code",
   "execution_count": 322,
   "id": "774b78fb",
   "metadata": {},
   "outputs": [],
   "source": [
    "net = nn.Sequential(\n",
    "    nn.Conv2d(1,6,5,padding=2),\n",
    "    nn.Sigmoid(),\n",
    "    nn.AvgPool2d(2,2),\n",
    "    nn.Conv2d(6,16,5),\n",
    "    nn.Sigmoid(),\n",
    "    nn.AvgPool2d(2,2),\n",
    "    nn.Flatten(),\n",
    "    nn.Linear(400,120),\n",
    "    nn.Sigmoid(),\n",
    "    nn.Linear(120,84),\n",
    "    nn.Sigmoid(),\n",
    "    nn.Linear(84,10)\n",
    ")\n",
    "\n",
    "net = net.to(device)\n",
    "\n",
    "loss = nn.CrossEntropyLoss()\n",
    "\n",
    "updater = torch.optim.SGD(net.parameters(),lr=0.9)\n"
   ]
  },
  {
   "cell_type": "code",
   "execution_count": 323,
   "id": "9bb21c4b",
   "metadata": {},
   "outputs": [],
   "source": [
    "num_epoch = 10"
   ]
  },
  {
   "cell_type": "code",
   "execution_count": 324,
   "id": "e44c4559",
   "metadata": {},
   "outputs": [
    {
     "data": {
      "application/vnd.jupyter.widget-view+json": {
       "model_id": "c766a493eebc421aa98e58d146254175",
       "version_major": 2,
       "version_minor": 0
      },
      "text/plain": [
       "IntProgress(value=0, max=9)"
      ]
     },
     "metadata": {},
     "output_type": "display_data"
    },
    {
     "name": "stdout",
     "output_type": "stream",
     "text": [
      "Epoch: 0, train_loss: 2.2984599922180178, train_accuracy: 0.1148, test_accuracy: 0.28125\n",
      "Epoch: 1, train_loss: 1.1554452856699626, train_accuracy: 0.5321333333333333, test_accuracy: 0.56640625\n",
      "Epoch: 2, train_loss: 0.8310576709747315, train_accuracy: 0.6754166666666667, test_accuracy: 0.6640625\n",
      "Epoch: 3, train_loss: 0.7069139578501383, train_accuracy: 0.7203, test_accuracy: 0.71484375\n",
      "Epoch: 4, train_loss: 0.6435663416544596, train_accuracy: 0.747, test_accuracy: 0.73828125\n",
      "Epoch: 5, train_loss: 0.5952117958068848, train_accuracy: 0.7697333333333334, test_accuracy: 0.765625\n",
      "Epoch: 6, train_loss: 0.5531619689941406, train_accuracy: 0.78615, test_accuracy: 0.765625\n",
      "Epoch: 7, train_loss: 0.518610040918986, train_accuracy: 0.8027, test_accuracy: 0.75\n",
      "Epoch: 8, train_loss: 0.4924743413925171, train_accuracy: 0.8127333333333333, test_accuracy: 0.78125\n",
      "Epoch: 9, train_loss: 0.4709359110514323, train_accuracy: 0.8225, test_accuracy: 0.80078125\n",
      "Epoch: 7, train_loss: 0.518610040918986, train_accuracy: 0.8027, test_accuracy: 0.75\n",
      "Epoch: 8, train_loss: 0.4924743413925171, train_accuracy: 0.8127333333333333, test_accuracy: 0.78125\n",
      "Epoch: 9, train_loss: 0.4709359110514323, train_accuracy: 0.8225, test_accuracy: 0.80078125\n"
     ]
    }
   ],
   "source": [
    "progress = ipywidgets.IntProgress(min=0,max=num_epoch-1)\n",
    "progress.value=0\n",
    "display(progress)\n",
    "\n",
    "def init_weights(m):\n",
    "    if type(m) == nn.Linear or type(m) == nn.Conv2d:\n",
    "        nn.init.xavier_uniform_(m.weight)\n",
    "net.apply(init_weights)\n",
    "\n",
    "train_metrics = []\n",
    "\n",
    "for epoch in range(num_epoch):\n",
    "    net.train()\n",
    "    metric = Accumulator(3)\n",
    "    for X,y in train_iter:\n",
    "        X = X.to(device)\n",
    "        y = y.to(device)\n",
    "\n",
    "        out = net(X)\n",
    "        net.zero_grad()\n",
    "        l = loss(out, y)\n",
    "        l.backward()\n",
    "        updater.step()\n",
    "        with torch.no_grad():\n",
    "            metric.add(l * X.shape[0], accuracy(out, y), X.shape[0])\n",
    "    train_l = metric[0] / metric[2]\n",
    "    train_acc = metric[1] / metric[2]\n",
    "\n",
    "    test_acc = evaluate_accuracy_gpu(net, test_iter)\n",
    "\n",
    "    print(f\"Epoch: {epoch}, train_loss: {train_l}, train_accuracy: {train_acc}, test_accuracy: {test_acc}\")\n",
    "    train_metrics.append((epoch,train_l,train_acc,test_acc))\n",
    "    progress.value = epoch\n",
    "\n",
    "for item in train_metrics[-3:]:\n",
    "    print(f\"Epoch: {item[0]}, train_loss: {item[1]}, train_accuracy: {item[2]}, test_accuracy: {item[3]}\")"
   ]
  },
  {
   "cell_type": "code",
   "execution_count": 374,
   "id": "8aa0a58a",
   "metadata": {},
   "outputs": [
    {
     "data": {
      "text/plain": [
       "(0.0, 2.5)"
      ]
     },
     "execution_count": 374,
     "metadata": {},
     "output_type": "execute_result"
    },
    {
     "data": {
      "image/png": "[encoded data removed]",
      "text/plain": [
       "<Figure size 640x480 with 1 Axes>"
      ]
     },
     "metadata": {},
     "output_type": "display_data"
    }
   ],
   "source": [
    "fig, ax = plt.subplots()\n",
    "ax.plot(range(len(train_metrics)),[i[1] for i in train_metrics])\n",
    "ax.plot(range(len(train_metrics)),[i[2] for i in train_metrics])\n",
    "ax.plot(range(len(train_metrics)),[i[3] for i in train_metrics])\n",
    "ax.set_xlim(0,len(train_metrics)-1)\n",
    "ax.set_ylim(0,2.5)\n"
   ]
  },
  {
   "cell_type": "code",
   "execution_count": 408,
   "id": "be5fa0e4",
   "metadata": {},
   "outputs": [
    {
     "data": {
      "text/plain": [
       "Text(0.5, 1.0, 'Real Group: 9, Calculated Group: 9')"
      ]
     },
     "execution_count": 408,
     "metadata": {},
     "output_type": "execute_result"
    },
    {
     "data": {
      "image/png": "[encoded data removed]",
      "text/plain": [
       "<Figure size 640x480 with 1 Axes>"
      ]
     },
     "metadata": {},
     "output_type": "display_data"
    }
   ],
   "source": [
    "test_item = random.choice(mnist_test)\n",
    "result = net(test_item[0].reshape(1,1,28,28))\n",
    "fig, ax = plt.subplots()\n",
    "ax.imshow(test_item[0].reshape((28,28)))\n",
    "ax.set_title(f\"Real Group: {test_item[1]}, Calculated Group: {result.argmax()}\")"
   ]
  }
 ],
 "metadata": {
  "kernelspec": {
   "display_name": ".venv",
   "language": "python",
   "name": "python3"
  },
  "language_info": {
   "codemirror_mode": {
    "name": "ipython",
    "version": 3
   },
   "file_extension": ".py",
   "mimetype": "text/x-python",
   "name": "python",
   "nbconvert_exporter": "python",
   "pygments_lexer": "ipython3",
   "version": "3.13.2"
  }
 },
 "nbformat": 4,
 "nbformat_minor": 5
}
