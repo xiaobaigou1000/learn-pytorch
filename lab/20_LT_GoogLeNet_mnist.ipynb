{
 "cells": [
  {
   "cell_type": "markdown",
   "id": "3e32ee8a",
   "metadata": {},
   "source": [
    "# GoogLeNet\n",
    "\n",
    "Inception block don't change image size, only change channel size.\n"
   ]
  },
  {
   "cell_type": "code",
   "execution_count": 1,
   "id": "7d2edbf2",
   "metadata": {},
   "outputs": [],
   "source": [
    "import torch\n",
    "from lightning_datasets import MnistDataModule\n",
    "import pytorch_lightning as L\n",
    "from torch import nn\n",
    "from torchmetrics import Accuracy\n",
    "from pytorch_lightning.loggers import MLFlowLogger\n",
    "import matplotlib.pyplot as plt\n",
    "import torch.nn.functional as F"
   ]
  },
  {
   "cell_type": "code",
   "execution_count": 2,
   "id": "010cd13f",
   "metadata": {},
   "outputs": [],
   "source": [
    "torch.set_float32_matmul_precision('high')"
   ]
  },
  {
   "cell_type": "code",
   "execution_count": 3,
   "id": "a3a6d1a3",
   "metadata": {},
   "outputs": [],
   "source": [
    "class Inception(nn.Module):\n",
    "    def __init__(self, in_channels, path1_channels, path2_channels, path3_channels, path4_channels):\n",
    "        super().__init__()\n",
    "        self.path1_block1 = nn.Conv2d(\n",
    "            in_channels, path1_channels, kernel_size=(1, 1))\n",
    "        self.path2_block1 = nn.Conv2d(\n",
    "            in_channels, path2_channels[0], kernel_size=(1, 1))\n",
    "        self.path2_block2 = nn.Conv2d(\n",
    "            path2_channels[0], path2_channels[1], kernel_size=(3, 3), padding=1)\n",
    "        self.path3_block1 = nn.Conv2d(\n",
    "            in_channels, path3_channels[0], kernel_size=1)\n",
    "        self.path3_block2 = nn.Conv2d(\n",
    "            path3_channels[0], path3_channels[1], kernel_size=(5, 5), padding=2)\n",
    "        self.path4_block1 = nn.MaxPool2d(\n",
    "            kernel_size=(3, 3), stride=1, padding=1)\n",
    "        self.path4_block2 = nn.Conv2d(\n",
    "            in_channels, path4_channels, kernel_size=1)\n",
    "\n",
    "    def forward(self, x):\n",
    "        p1 = F.relu(self.path1_block1(x))\n",
    "        p2 = F.relu(self.path2_block2(F.relu(self.path2_block1(x))))\n",
    "        p3 = F.relu(self.path3_block2(F.relu(self.path3_block1(x))))\n",
    "        p4 = F.relu(self.path4_block2(F.relu(self.path4_block1(x))))\n",
    "        return torch.cat((p1, p2, p3, p4), dim=1)"
   ]
  },
  {
   "cell_type": "code",
   "execution_count": 4,
   "id": "60da55af",
   "metadata": {},
   "outputs": [
    {
     "data": {
      "text/plain": [
       "(torch.Size([1, 1, 28, 28]), torch.Size([1, 10, 28, 28]))"
      ]
     },
     "execution_count": 4,
     "metadata": {},
     "output_type": "execute_result"
    }
   ],
   "source": [
    "example_inception_layer = Inception(1, 2, (2, 3), (2, 3), 2)\n",
    "\n",
    "sample_data = torch.randn((1, 1, 28, 28))\n",
    "\n",
    "sample_data.shape, example_inception_layer(sample_data).shape"
   ]
  },
  {
   "cell_type": "code",
   "execution_count": 5,
   "id": "cdb33ac8",
   "metadata": {},
   "outputs": [],
   "source": [
    "class GoogLeNet(L.LightningModule):\n",
    "    def __init__(self, lr=0.1):\n",
    "        super().__init__()\n",
    "        stage1 = nn.Sequential(\n",
    "            nn.Conv2d(1, 64, kernel_size=7, stride=2, padding=3),\n",
    "            nn.ReLU(),\n",
    "            nn.MaxPool2d(kernel_size=3, stride=2, padding=1)\n",
    "        )\n",
    "        stage2 = nn.Sequential(\n",
    "            nn.Conv2d(64, 64, kernel_size=1),\n",
    "            nn.ReLU(),\n",
    "            nn.Conv2d(64, 192, kernel_size=3, padding=1),\n",
    "            nn.ReLU(),\n",
    "            nn.MaxPool2d(kernel_size=3, stride=2, padding=1)\n",
    "        )\n",
    "        stage3 = nn.Sequential(\n",
    "            Inception(192, 64, (96, 128), (16, 32), 32),\n",
    "            Inception(256, 128, (128, 192), (32, 96), 64),\n",
    "            nn.MaxPool2d(kernel_size=3, stride=2, padding=1)\n",
    "        )\n",
    "        stage4 = nn.Sequential(\n",
    "            Inception(480, 192, (96, 208), (16, 48), 64),\n",
    "            Inception(512, 160, (112, 224), (24, 64), 64),\n",
    "            Inception(512, 128, (128, 256), (24, 64), 64),\n",
    "            Inception(512, 112, (144, 288), (32, 64), 64),\n",
    "            Inception(528, 256, (160, 320), (32, 128), 128),\n",
    "            nn.MaxPool2d(kernel_size=3, stride=2, padding=1)\n",
    "        )\n",
    "        stage5 = nn.Sequential(\n",
    "            Inception(832, 256, (160, 320), (32, 128), 128),\n",
    "            Inception(832, 384, (192, 384), (48, 128), 128),\n",
    "            nn.AdaptiveAvgPool2d((1, 1)),\n",
    "            nn.Flatten()\n",
    "        )\n",
    "        self.net = nn.Sequential(\n",
    "            stage1,\n",
    "            stage2,\n",
    "            stage3,\n",
    "            stage4,\n",
    "            stage5,\n",
    "            nn.Linear(1024, 10)\n",
    "        )\n",
    "\n",
    "        self.net.apply(GoogLeNet.__init_vars)\n",
    "        self.lr = lr\n",
    "        self.loss = nn.CrossEntropyLoss()\n",
    "        self.accuracy = Accuracy(task='multiclass', num_classes=10)\n",
    "\n",
    "    def __init_vars(layer):\n",
    "        if isinstance(layer, nn.Conv2d):\n",
    "            nn.init.kaiming_uniform_(layer.weight, 0.2)\n",
    "\n",
    "    def forward(self, X):\n",
    "        return self.net(X)\n",
    "\n",
    "    def training_step(self, batch, batch_idx):\n",
    "        loss, output, y = self.__common_step(batch, batch_idx)\n",
    "        accuracy = self.accuracy(output, y)\n",
    "        self.logger.log_metrics({\"training_loss\": loss, \"train_acc\": accuracy})\n",
    "        return loss\n",
    "\n",
    "    def validation_step(self, batch, batch_idx):\n",
    "        loss, output, y = self.__common_step(batch, batch_idx)\n",
    "        accuracy = self.accuracy(output, y)\n",
    "        self.logger.log_metrics(\n",
    "            {\"validation_loss\": loss, \"validation_acc\": accuracy})\n",
    "        return loss\n",
    "\n",
    "    def test_step(self, batch, batch_idx):\n",
    "        loss, output, y = self.__common_step(batch, batch_idx)\n",
    "        accuracy = self.accuracy(output, y)\n",
    "        self.logger.log_metrics({\"test_loss\": loss, \"test_acc\": accuracy})\n",
    "        return loss\n",
    "\n",
    "    def on_train_start(self):\n",
    "        self.logger.log_hyperparams({\"learning_rate\": self.lr})\n",
    "\n",
    "    def __common_step(self, batch, batch_idx):\n",
    "        X, y = batch\n",
    "        output = self(X)\n",
    "        loss = self.loss(output, y)\n",
    "        return loss, output, y\n",
    "\n",
    "    def configure_optimizers(self):\n",
    "        return torch.optim.SGD(self.parameters(), lr=self.lr)"
   ]
  },
  {
   "cell_type": "code",
   "execution_count": 6,
   "id": "00489117",
   "metadata": {},
   "outputs": [
    {
     "name": "stderr",
     "output_type": "stream",
     "text": [
      "Using default `ModelCheckpoint`. Consider installing `litmodels` package to enable `LitModelCheckpoint` for automatic upload to the Lightning model registry.\n",
      "GPU available: True (cuda), used: True\n",
      "TPU available: False, using: 0 TPU cores\n",
      "HPU available: False, using: 0 HPUs\n"
     ]
    }
   ],
   "source": [
    "model = GoogLeNet(lr=0.05)\n",
    "dataset = MnistDataModule(image_size=(96, 96), batch_size=32)\n",
    "logger = MLFlowLogger(run_name=\"GoogLeNet mnist\")\n",
    "\n",
    "trainer = L.Trainer('gpu', logger=logger, max_epochs=10)"
   ]
  },
  {
   "cell_type": "code",
   "execution_count": 7,
   "id": "62d8b6a5",
   "metadata": {},
   "outputs": [
    {
     "name": "stderr",
     "output_type": "stream",
     "text": [
      "LOCAL_RANK: 0 - CUDA_VISIBLE_DEVICES: [0]\n",
      "\n",
      "  | Name     | Type               | Params | Mode \n",
      "--------------------------------------------------------\n",
      "0 | net      | Sequential         | 6.0 M  | train\n",
      "1 | loss     | CrossEntropyLoss   | 0      | train\n",
      "2 | accuracy | MulticlassAccuracy | 0      | train\n",
      "--------------------------------------------------------\n",
      "6.0 M     Trainable params\n",
      "0         Non-trainable params\n",
      "6.0 M     Total params\n",
      "23.910    Total estimated model params size (MB)\n",
      "93        Modules in train mode\n",
      "0         Modules in eval mode\n"
     ]
    },
    {
     "data": {
      "application/vnd.jupyter.widget-view+json": {
       "model_id": "d2d9a109e8934f5aa2b375e191e753d9",
       "version_major": 2,
       "version_minor": 0
      },
      "text/plain": [
       "Sanity Checking: |          | 0/? [00:00<?, ?it/s]"
      ]
     },
     "metadata": {},
     "output_type": "display_data"
    },
    {
     "data": {
      "application/vnd.jupyter.widget-view+json": {
       "model_id": "b986fac2ef7b4437b177e043014334b2",
       "version_major": 2,
       "version_minor": 0
      },
      "text/plain": [
       "Training: |          | 0/? [00:00<?, ?it/s]"
      ]
     },
     "metadata": {},
     "output_type": "display_data"
    },
    {
     "data": {
      "application/vnd.jupyter.widget-view+json": {
       "model_id": "11782cc5406b4555b15b1b66518fcb9a",
       "version_major": 2,
       "version_minor": 0
      },
      "text/plain": [
       "Validation: |          | 0/? [00:00<?, ?it/s]"
      ]
     },
     "metadata": {},
     "output_type": "display_data"
    },
    {
     "data": {
      "application/vnd.jupyter.widget-view+json": {
       "model_id": "63ef49c298cd4693afbcd426e65931b0",
       "version_major": 2,
       "version_minor": 0
      },
      "text/plain": [
       "Validation: |          | 0/? [00:00<?, ?it/s]"
      ]
     },
     "metadata": {},
     "output_type": "display_data"
    },
    {
     "data": {
      "application/vnd.jupyter.widget-view+json": {
       "model_id": "f7e88d16eff54d709b8d6ac450a68a25",
       "version_major": 2,
       "version_minor": 0
      },
      "text/plain": [
       "Validation: |          | 0/? [00:00<?, ?it/s]"
      ]
     },
     "metadata": {},
     "output_type": "display_data"
    },
    {
     "data": {
      "application/vnd.jupyter.widget-view+json": {
       "model_id": "31fa26cb94154506b72d27b7c9f3222f",
       "version_major": 2,
       "version_minor": 0
      },
      "text/plain": [
       "Validation: |          | 0/? [00:00<?, ?it/s]"
      ]
     },
     "metadata": {},
     "output_type": "display_data"
    },
    {
     "data": {
      "application/vnd.jupyter.widget-view+json": {
       "model_id": "32948b5a308e40eba092b235860ebe76",
       "version_major": 2,
       "version_minor": 0
      },
      "text/plain": [
       "Validation: |          | 0/? [00:00<?, ?it/s]"
      ]
     },
     "metadata": {},
     "output_type": "display_data"
    },
    {
     "data": {
      "application/vnd.jupyter.widget-view+json": {
       "model_id": "ccec35f16c37435aa72b08fc2c9efde7",
       "version_major": 2,
       "version_minor": 0
      },
      "text/plain": [
       "Validation: |          | 0/? [00:00<?, ?it/s]"
      ]
     },
     "metadata": {},
     "output_type": "display_data"
    },
    {
     "data": {
      "application/vnd.jupyter.widget-view+json": {
       "model_id": "cc40abffbe524c6eb4118bbaea2481a9",
       "version_major": 2,
       "version_minor": 0
      },
      "text/plain": [
       "Validation: |          | 0/? [00:00<?, ?it/s]"
      ]
     },
     "metadata": {},
     "output_type": "display_data"
    },
    {
     "data": {
      "application/vnd.jupyter.widget-view+json": {
       "model_id": "51eb82d818bd42a180e6b6888ab0a3f2",
       "version_major": 2,
       "version_minor": 0
      },
      "text/plain": [
       "Validation: |          | 0/? [00:00<?, ?it/s]"
      ]
     },
     "metadata": {},
     "output_type": "display_data"
    },
    {
     "data": {
      "application/vnd.jupyter.widget-view+json": {
       "model_id": "a9480f3439bd48439787f07e3d370e2a",
       "version_major": 2,
       "version_minor": 0
      },
      "text/plain": [
       "Validation: |          | 0/? [00:00<?, ?it/s]"
      ]
     },
     "metadata": {},
     "output_type": "display_data"
    },
    {
     "data": {
      "application/vnd.jupyter.widget-view+json": {
       "model_id": "3b84397b555d4c618ca6643c35536224",
       "version_major": 2,
       "version_minor": 0
      },
      "text/plain": [
       "Validation: |          | 0/? [00:00<?, ?it/s]"
      ]
     },
     "metadata": {},
     "output_type": "display_data"
    },
    {
     "name": "stderr",
     "output_type": "stream",
     "text": [
      "`Trainer.fit` stopped: `max_epochs=10` reached.\n"
     ]
    }
   ],
   "source": [
    "trainer.fit(model, dataset)"
   ]
  },
  {
   "cell_type": "code",
   "execution_count": 8,
   "id": "cae6ba83",
   "metadata": {},
   "outputs": [
    {
     "name": "stderr",
     "output_type": "stream",
     "text": [
      "LOCAL_RANK: 0 - CUDA_VISIBLE_DEVICES: [0]\n"
     ]
    },
    {
     "data": {
      "application/vnd.jupyter.widget-view+json": {
       "model_id": "dd6b87dd347f4179be24806c75c8011b",
       "version_major": 2,
       "version_minor": 0
      },
      "text/plain": [
       "Validation: |          | 0/? [00:00<?, ?it/s]"
      ]
     },
     "metadata": {},
     "output_type": "display_data"
    },
    {
     "data": {
      "text/plain": [
       "[{}]"
      ]
     },
     "execution_count": 8,
     "metadata": {},
     "output_type": "execute_result"
    }
   ],
   "source": [
    "trainer.validate(model, dataset)"
   ]
  },
  {
   "cell_type": "code",
   "execution_count": 9,
   "id": "ef8b5eb9",
   "metadata": {},
   "outputs": [
    {
     "name": "stderr",
     "output_type": "stream",
     "text": [
      "LOCAL_RANK: 0 - CUDA_VISIBLE_DEVICES: [0]\n"
     ]
    },
    {
     "data": {
      "application/vnd.jupyter.widget-view+json": {
       "model_id": "59e3061ae8d04d68a6dd9fc262b5a789",
       "version_major": 2,
       "version_minor": 0
      },
      "text/plain": [
       "Testing: |          | 0/? [00:00<?, ?it/s]"
      ]
     },
     "metadata": {},
     "output_type": "display_data"
    },
    {
     "data": {
      "text/plain": [
       "[{}]"
      ]
     },
     "execution_count": 9,
     "metadata": {},
     "output_type": "execute_result"
    }
   ],
   "source": [
    "trainer.test(model, dataset)"
   ]
  }
 ],
 "metadata": {
  "kernelspec": {
   "display_name": ".venv",
   "language": "python",
   "name": "python3"
  },
  "language_info": {
   "codemirror_mode": {
    "name": "ipython",
    "version": 3
   },
   "file_extension": ".py",
   "mimetype": "text/x-python",
   "name": "python",
   "nbconvert_exporter": "python",
   "pygments_lexer": "ipython3",
   "version": "3.13.2"
  }
 },
 "nbformat": 4,
 "nbformat_minor": 5
}
