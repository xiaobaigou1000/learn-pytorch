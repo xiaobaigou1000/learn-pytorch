{
 "cells": [
  {
   "cell_type": "code",
   "execution_count": 2,
   "id": "45ef67ce",
   "metadata": {},
   "outputs": [],
   "source": [
    "import torch\n",
    "from torch import nn\n",
    "from torch.utils import data\n",
    "import ipywidgets\n",
    "import matplotlib.pyplot as plt\n",
    "import random\n",
    "from mylib import Accumulator, accuracy, evaluate_accuracy_gpu, train_gpu,plot_metrics\n",
    "from torchvision.transforms import v2\n",
    "from imagenet1k import ImagenetTorchDataset\n",
    "from torchvision.datasets import ImageFolder\n",
    "from IPython import display\n",
    "import PIL\n",
    "import torchvision\n",
    "\n",
    "device = torch.device('cuda:0')"
   ]
  },
  {
   "cell_type": "code",
   "execution_count": 3,
   "id": "078f3b93",
   "metadata": {},
   "outputs": [],
   "source": [
    "trans = v2.Compose([v2.ToImage(),v2.ToDtype(torch.float32,True),v2.Resize((224,224))])\n",
    "\n",
    "mnist_train = torchvision.datasets.FashionMNIST(\n",
    "root=\"./data\", train=True, transform=trans, download=True)\n",
    "mnist_test = torchvision.datasets.FashionMNIST(\n",
    "root=\"./data\", train=False, transform=trans, download=True)\n",
    "\n",
    "train_iter = data.DataLoader(mnist_train,256,True)\n",
    "test_iter = data.DataLoader(mnist_test,256,True)"
   ]
  },
  {
   "cell_type": "code",
   "execution_count": 4,
   "id": "c1c25f13",
   "metadata": {},
   "outputs": [],
   "source": [
    "def loader(path):\n",
    "    image = PIL.Image.open(path)\n",
    "    image = image.convert('RGB')\n",
    "    return image\n",
    "\n",
    "transforms = v2.Compose([v2.ToImage(), v2.Resize((224,224)), v2.ToDtype(torch.float32,scale=True)])\n",
    "\n",
    "validation_dataset = ImageFolder(\"./data/imagenet/validation_images\",transform=transforms)\n",
    "validation_dataloader = data.DataLoader(validation_dataset,128,True,num_workers=4)"
   ]
  },
  {
   "cell_type": "code",
   "execution_count": 5,
   "id": "c4185b69",
   "metadata": {},
   "outputs": [
    {
     "name": "stdout",
     "output_type": "stream",
     "text": [
      "Epoch: 0, train_loss: 1.760717636235555, train_accuracy: 0.35263333333333335, test_accuracy: 0.609375\n",
      "Epoch: 1, train_loss: 0.8333039585113525, train_accuracy: 0.6849666666666666, test_accuracy: 0.73828125\n",
      "Epoch: 2, train_loss: 0.6675305160522461, train_accuracy: 0.75015, test_accuracy: 0.70703125\n",
      "Epoch: 3, train_loss: 0.5856650628407796, train_accuracy: 0.77995, test_accuracy: 0.8515625\n",
      "Epoch: 4, train_loss: 0.5320508136749268, train_accuracy: 0.8026666666666666, test_accuracy: 0.8125\n",
      "Epoch: 5, train_loss: 0.4942376562754313, train_accuracy: 0.81755, test_accuracy: 0.84375\n",
      "Epoch: 6, train_loss: 0.4629237745285034, train_accuracy: 0.8294, test_accuracy: 0.84765625\n",
      "Epoch: 7, train_loss: 0.4360443052927653, train_accuracy: 0.8412333333333334, test_accuracy: 0.8359375\n",
      "Epoch: 8, train_loss: 0.41860040702819823, train_accuracy: 0.8474, test_accuracy: 0.82421875\n",
      "Epoch: 9, train_loss: 0.39783296343485514, train_accuracy: 0.8550333333333333, test_accuracy: 0.875\n"
     ]
    }
   ],
   "source": [
    "net = nn.Sequential(\n",
    "    nn.Conv2d(1,96,kernel_size=11,stride=4,padding=1),nn.ReLU(),\n",
    "    nn.MaxPool2d(kernel_size=3,stride=2),\n",
    "    nn.Conv2d(96,256,kernel_size=5,padding=2),nn.ReLU(),\n",
    "    nn.MaxPool2d(kernel_size=3,stride=2),\n",
    "    nn.Conv2d(256,384,kernel_size=3,padding=1),nn.ReLU(),\n",
    "    nn.Conv2d(384,384,kernel_size=3,padding=1),nn.ReLU(),\n",
    "    nn.Conv2d(384,256,kernel_size=3,padding=1),nn.ReLU(),\n",
    "    nn.MaxPool2d(kernel_size=3,stride=2),\n",
    "    nn.Flatten(),\n",
    "    nn.Linear(6400,4096),nn.ReLU(),nn.Dropout(p=0.5),\n",
    "    nn.Linear(4096,4096),nn.ReLU(),nn.Dropout(p=0.5),\n",
    "    nn.Linear(4096,10)\n",
    ")\n",
    "\n",
    "net.to(device)\n",
    "\n",
    "loss = nn.CrossEntropyLoss()\n",
    "updater = torch.optim.SGD(net.parameters(),lr=0.01)\n",
    "\n",
    "train_metrics = train_gpu(net,loss,updater,train_iter,test_iter,10,device)"
   ]
  },
  {
   "cell_type": "code",
   "execution_count": 6,
   "id": "a21e9431",
   "metadata": {},
   "outputs": [
    {
     "data": {
      "image/png": "[encoded data removed]",
      "text/plain": [
       "<Figure size 640x480 with 1 Axes>"
      ]
     },
     "metadata": {},
     "output_type": "display_data"
    }
   ],
   "source": [
    "plot_metrics(train_metrics,0,3)"
   ]
  }
 ],
 "metadata": {
  "kernelspec": {
   "display_name": ".venv",
   "language": "python",
   "name": "python3"
  },
  "language_info": {
   "codemirror_mode": {
    "name": "ipython",
    "version": 3
   },
   "file_extension": ".py",
   "mimetype": "text/x-python",
   "name": "python",
   "nbconvert_exporter": "python",
   "pygments_lexer": "ipython3",
   "version": "3.13.2"
  }
 },
 "nbformat": 4,
 "nbformat_minor": 5
}
