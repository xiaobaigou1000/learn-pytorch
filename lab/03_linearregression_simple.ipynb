{
 "cells": [
  {
   "cell_type": "code",
   "execution_count": 15,
   "id": "b3f81ea2",
   "metadata": {},
   "outputs": [],
   "source": [
    "import torch\n",
    "from torch.utils import data\n",
    "from torch import nn"
   ]
  },
  {
   "cell_type": "code",
   "execution_count": 3,
   "id": "022bbd5d",
   "metadata": {},
   "outputs": [
    {
     "data": {
      "text/plain": [
       "(torch.Size([1000, 2]), torch.Size([1000, 1]))"
      ]
     },
     "execution_count": 3,
     "metadata": {},
     "output_type": "execute_result"
    }
   ],
   "source": [
    "real_X = torch.normal(0,1,(1000,2))\n",
    "real_w = torch.tensor([2,-3.4]).reshape(2,1)\n",
    "real_b = 4.8\n",
    "\n",
    "real_y = torch.matmul(real_X,real_w) + real_b\n",
    "real_X.shape, real_y.shape"
   ]
  },
  {
   "cell_type": "code",
   "execution_count": 17,
   "id": "afe67e09",
   "metadata": {},
   "outputs": [],
   "source": [
    "def load_array(data_arrays, batch_size, is_train=True):\n",
    "    dataset = data.TensorDataset(*data_arrays)\n",
    "    return data.DataLoader(dataset,batch_size,shuffle=is_train)"
   ]
  },
  {
   "cell_type": "code",
   "execution_count": 18,
   "id": "a0418d9e",
   "metadata": {},
   "outputs": [],
   "source": [
    "net = nn.Sequential(nn.Linear(2,1))\n",
    "loss = nn.MSELoss()\n",
    "trainer = torch.optim.SGD(net.parameters(),lr=0.03)"
   ]
  },
  {
   "cell_type": "code",
   "execution_count": 20,
   "id": "2a30131b",
   "metadata": {},
   "outputs": [
    {
     "name": "stdout",
     "output_type": "stream",
     "text": [
      "Epoch 0, loss: 0.00018179812468588352\n",
      "Epoch 1, loss: 1.3042729118950547e-09\n",
      "Epoch 2, loss: 5.7970624828262984e-12\n"
     ]
    }
   ],
   "source": [
    "num_rounds = 3\n",
    "for i in range(num_rounds):\n",
    "    for X,y in load_array([real_X,real_y],10,True):\n",
    "        l = loss(net(X),y)\n",
    "        trainer.zero_grad()\n",
    "        l.backward()\n",
    "        trainer.step()\n",
    "    l = loss(net(real_X),real_y)\n",
    "    print(f\"Epoch {i}, loss: {l}\")"
   ]
  },
  {
   "cell_type": "code",
   "execution_count": 23,
   "id": "bdff087a",
   "metadata": {},
   "outputs": [
    {
     "data": {
      "text/plain": [
       "(tensor([[4.0355],\n",
       "         [4.8398],\n",
       "         [4.7972],\n",
       "         [4.7025],\n",
       "         [4.7725],\n",
       "         [3.3667],\n",
       "         [3.6397],\n",
       "         [6.8810],\n",
       "         [2.4736],\n",
       "         [9.4376]], grad_fn=<AddmmBackward0>),\n",
       " tensor([[4.0355],\n",
       "         [4.8398],\n",
       "         [4.7973],\n",
       "         [4.7025],\n",
       "         [4.7725],\n",
       "         [3.3667],\n",
       "         [3.6397],\n",
       "         [6.8810],\n",
       "         [2.4736],\n",
       "         [9.4376]]))"
      ]
     },
     "execution_count": 23,
     "metadata": {},
     "output_type": "execute_result"
    }
   ],
   "source": [
    "net(X), y"
   ]
  },
  {
   "cell_type": "code",
   "execution_count": null,
   "id": "b34e56b8",
   "metadata": {},
   "outputs": [],
   "source": []
  }
 ],
 "metadata": {
  "kernelspec": {
   "display_name": ".venv",
   "language": "python",
   "name": "python3"
  },
  "language_info": {
   "codemirror_mode": {
    "name": "ipython",
    "version": 3
   },
   "file_extension": ".py",
   "mimetype": "text/x-python",
   "name": "python",
   "nbconvert_exporter": "python",
   "pygments_lexer": "ipython3",
   "version": "3.13.2"
  }
 },
 "nbformat": 4,
 "nbformat_minor": 5
}
